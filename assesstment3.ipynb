{
  "nbformat": 4,
  "nbformat_minor": 0,
  "metadata": {
    "colab": {
      "name": "assesstment3.ipynb",
      "provenance": [],
      "toc_visible": true,
      "mount_file_id": "1DzExyxk2-vB2vYmdS3Y_4W-oCxw4itGX",
      "authorship_tag": "ABX9TyOjbLQ/EDQ25ZpPMoaqsfbN",
      "include_colab_link": true
    },
    "kernelspec": {
      "name": "python3",
      "display_name": "Python 3"
    },
    "language_info": {
      "name": "python"
    }
  },
  "cells": [
    {
      "cell_type": "markdown",
      "metadata": {
        "id": "view-in-github",
        "colab_type": "text"
      },
      "source": [
        "<a href=\"https://colab.research.google.com/github/ProsperChuks/hamoye-assessment-3/blob/main/assesstment3.ipynb\" target=\"_parent\"><img src=\"https://colab.research.google.com/assets/colab-badge.svg\" alt=\"Open In Colab\"/></a>"
      ]
    },
    {
      "cell_type": "code",
      "metadata": {
        "id": "rAYXVrPbmKpz"
      },
      "source": [
        "import pandas as pd\n",
        "import numpy as np\n",
        "from sklearn.preprocessing import StandardScaler\n",
        "from sklearn.model_selection import train_test_split\n",
        "from sklearn.metrics import recall_score, precision_score, accuracy_score, f1_score, confusion_matrix"
      ],
      "execution_count": 59,
      "outputs": []
    },
    {
      "cell_type": "code",
      "metadata": {
        "colab": {
          "base_uri": "https://localhost:8080/",
          "height": 206
        },
        "id": "We8BKZrroY00",
        "outputId": "a55dcfbb-2ae7-4ee7-871f-94f2de4fb78a"
      },
      "source": [
        "path = '/content/drive/MyDrive/Colab Notebooks/Hamoye Intership/classification/Data_for_UCI_named.csv'\n",
        "df = pd.read_csv(path)\n",
        "df.head()"
      ],
      "execution_count": 60,
      "outputs": [
        {
          "output_type": "execute_result",
          "data": {
            "text/html": [
              "<div>\n",
              "<style scoped>\n",
              "    .dataframe tbody tr th:only-of-type {\n",
              "        vertical-align: middle;\n",
              "    }\n",
              "\n",
              "    .dataframe tbody tr th {\n",
              "        vertical-align: top;\n",
              "    }\n",
              "\n",
              "    .dataframe thead th {\n",
              "        text-align: right;\n",
              "    }\n",
              "</style>\n",
              "<table border=\"1\" class=\"dataframe\">\n",
              "  <thead>\n",
              "    <tr style=\"text-align: right;\">\n",
              "      <th></th>\n",
              "      <th>tau1</th>\n",
              "      <th>tau2</th>\n",
              "      <th>tau3</th>\n",
              "      <th>tau4</th>\n",
              "      <th>p1</th>\n",
              "      <th>p2</th>\n",
              "      <th>p3</th>\n",
              "      <th>p4</th>\n",
              "      <th>g1</th>\n",
              "      <th>g2</th>\n",
              "      <th>g3</th>\n",
              "      <th>g4</th>\n",
              "      <th>stab</th>\n",
              "      <th>stabf</th>\n",
              "    </tr>\n",
              "  </thead>\n",
              "  <tbody>\n",
              "    <tr>\n",
              "      <th>0</th>\n",
              "      <td>2.959060</td>\n",
              "      <td>3.079885</td>\n",
              "      <td>8.381025</td>\n",
              "      <td>9.780754</td>\n",
              "      <td>3.763085</td>\n",
              "      <td>-0.782604</td>\n",
              "      <td>-1.257395</td>\n",
              "      <td>-1.723086</td>\n",
              "      <td>0.650456</td>\n",
              "      <td>0.859578</td>\n",
              "      <td>0.887445</td>\n",
              "      <td>0.958034</td>\n",
              "      <td>0.055347</td>\n",
              "      <td>unstable</td>\n",
              "    </tr>\n",
              "    <tr>\n",
              "      <th>1</th>\n",
              "      <td>9.304097</td>\n",
              "      <td>4.902524</td>\n",
              "      <td>3.047541</td>\n",
              "      <td>1.369357</td>\n",
              "      <td>5.067812</td>\n",
              "      <td>-1.940058</td>\n",
              "      <td>-1.872742</td>\n",
              "      <td>-1.255012</td>\n",
              "      <td>0.413441</td>\n",
              "      <td>0.862414</td>\n",
              "      <td>0.562139</td>\n",
              "      <td>0.781760</td>\n",
              "      <td>-0.005957</td>\n",
              "      <td>stable</td>\n",
              "    </tr>\n",
              "    <tr>\n",
              "      <th>2</th>\n",
              "      <td>8.971707</td>\n",
              "      <td>8.848428</td>\n",
              "      <td>3.046479</td>\n",
              "      <td>1.214518</td>\n",
              "      <td>3.405158</td>\n",
              "      <td>-1.207456</td>\n",
              "      <td>-1.277210</td>\n",
              "      <td>-0.920492</td>\n",
              "      <td>0.163041</td>\n",
              "      <td>0.766689</td>\n",
              "      <td>0.839444</td>\n",
              "      <td>0.109853</td>\n",
              "      <td>0.003471</td>\n",
              "      <td>unstable</td>\n",
              "    </tr>\n",
              "    <tr>\n",
              "      <th>3</th>\n",
              "      <td>0.716415</td>\n",
              "      <td>7.669600</td>\n",
              "      <td>4.486641</td>\n",
              "      <td>2.340563</td>\n",
              "      <td>3.963791</td>\n",
              "      <td>-1.027473</td>\n",
              "      <td>-1.938944</td>\n",
              "      <td>-0.997374</td>\n",
              "      <td>0.446209</td>\n",
              "      <td>0.976744</td>\n",
              "      <td>0.929381</td>\n",
              "      <td>0.362718</td>\n",
              "      <td>0.028871</td>\n",
              "      <td>unstable</td>\n",
              "    </tr>\n",
              "    <tr>\n",
              "      <th>4</th>\n",
              "      <td>3.134112</td>\n",
              "      <td>7.608772</td>\n",
              "      <td>4.943759</td>\n",
              "      <td>9.857573</td>\n",
              "      <td>3.525811</td>\n",
              "      <td>-1.125531</td>\n",
              "      <td>-1.845975</td>\n",
              "      <td>-0.554305</td>\n",
              "      <td>0.797110</td>\n",
              "      <td>0.455450</td>\n",
              "      <td>0.656947</td>\n",
              "      <td>0.820923</td>\n",
              "      <td>0.049860</td>\n",
              "      <td>unstable</td>\n",
              "    </tr>\n",
              "  </tbody>\n",
              "</table>\n",
              "</div>"
            ],
            "text/plain": [
              "       tau1      tau2      tau3  ...        g4      stab     stabf\n",
              "0  2.959060  3.079885  8.381025  ...  0.958034  0.055347  unstable\n",
              "1  9.304097  4.902524  3.047541  ...  0.781760 -0.005957    stable\n",
              "2  8.971707  8.848428  3.046479  ...  0.109853  0.003471  unstable\n",
              "3  0.716415  7.669600  4.486641  ...  0.362718  0.028871  unstable\n",
              "4  3.134112  7.608772  4.943759  ...  0.820923  0.049860  unstable\n",
              "\n",
              "[5 rows x 14 columns]"
            ]
          },
          "metadata": {},
          "execution_count": 60
        }
      ]
    },
    {
      "cell_type": "markdown",
      "metadata": {
        "id": "uh52nep8o3vc"
      },
      "source": [
        "checking for null values and duplicates"
      ]
    },
    {
      "cell_type": "code",
      "metadata": {
        "colab": {
          "base_uri": "https://localhost:8080/"
        },
        "id": "RfLyLXTRo1-C",
        "outputId": "9c13c9bb-15d6-4c82-bd5e-e719a472207b"
      },
      "source": [
        "print(df.isnull().sum())\n",
        "\n",
        "print(df.duplicated().any())"
      ],
      "execution_count": 61,
      "outputs": [
        {
          "output_type": "stream",
          "name": "stdout",
          "text": [
            "tau1     0\n",
            "tau2     0\n",
            "tau3     0\n",
            "tau4     0\n",
            "p1       0\n",
            "p2       0\n",
            "p3       0\n",
            "p4       0\n",
            "g1       0\n",
            "g2       0\n",
            "g3       0\n",
            "g4       0\n",
            "stab     0\n",
            "stabf    0\n",
            "dtype: int64\n",
            "False\n"
          ]
        }
      ]
    },
    {
      "cell_type": "markdown",
      "metadata": {
        "id": "d_v41z6JpWuo"
      },
      "source": [
        "No null values and 0 duplicates"
      ]
    },
    {
      "cell_type": "markdown",
      "metadata": {
        "id": "hm1UqN7GqMhP"
      },
      "source": [
        "dropping unnecessary column"
      ]
    },
    {
      "cell_type": "code",
      "metadata": {
        "colab": {
          "base_uri": "https://localhost:8080/",
          "height": 143
        },
        "id": "Vji5ZLr4qP7U",
        "outputId": "f0167c3c-d7cb-4c41-9177-1239acc633d6"
      },
      "source": [
        "df = df.drop(columns=['stab'])\n",
        "df.head(3)"
      ],
      "execution_count": 62,
      "outputs": [
        {
          "output_type": "execute_result",
          "data": {
            "text/html": [
              "<div>\n",
              "<style scoped>\n",
              "    .dataframe tbody tr th:only-of-type {\n",
              "        vertical-align: middle;\n",
              "    }\n",
              "\n",
              "    .dataframe tbody tr th {\n",
              "        vertical-align: top;\n",
              "    }\n",
              "\n",
              "    .dataframe thead th {\n",
              "        text-align: right;\n",
              "    }\n",
              "</style>\n",
              "<table border=\"1\" class=\"dataframe\">\n",
              "  <thead>\n",
              "    <tr style=\"text-align: right;\">\n",
              "      <th></th>\n",
              "      <th>tau1</th>\n",
              "      <th>tau2</th>\n",
              "      <th>tau3</th>\n",
              "      <th>tau4</th>\n",
              "      <th>p1</th>\n",
              "      <th>p2</th>\n",
              "      <th>p3</th>\n",
              "      <th>p4</th>\n",
              "      <th>g1</th>\n",
              "      <th>g2</th>\n",
              "      <th>g3</th>\n",
              "      <th>g4</th>\n",
              "      <th>stabf</th>\n",
              "    </tr>\n",
              "  </thead>\n",
              "  <tbody>\n",
              "    <tr>\n",
              "      <th>0</th>\n",
              "      <td>2.959060</td>\n",
              "      <td>3.079885</td>\n",
              "      <td>8.381025</td>\n",
              "      <td>9.780754</td>\n",
              "      <td>3.763085</td>\n",
              "      <td>-0.782604</td>\n",
              "      <td>-1.257395</td>\n",
              "      <td>-1.723086</td>\n",
              "      <td>0.650456</td>\n",
              "      <td>0.859578</td>\n",
              "      <td>0.887445</td>\n",
              "      <td>0.958034</td>\n",
              "      <td>unstable</td>\n",
              "    </tr>\n",
              "    <tr>\n",
              "      <th>1</th>\n",
              "      <td>9.304097</td>\n",
              "      <td>4.902524</td>\n",
              "      <td>3.047541</td>\n",
              "      <td>1.369357</td>\n",
              "      <td>5.067812</td>\n",
              "      <td>-1.940058</td>\n",
              "      <td>-1.872742</td>\n",
              "      <td>-1.255012</td>\n",
              "      <td>0.413441</td>\n",
              "      <td>0.862414</td>\n",
              "      <td>0.562139</td>\n",
              "      <td>0.781760</td>\n",
              "      <td>stable</td>\n",
              "    </tr>\n",
              "    <tr>\n",
              "      <th>2</th>\n",
              "      <td>8.971707</td>\n",
              "      <td>8.848428</td>\n",
              "      <td>3.046479</td>\n",
              "      <td>1.214518</td>\n",
              "      <td>3.405158</td>\n",
              "      <td>-1.207456</td>\n",
              "      <td>-1.277210</td>\n",
              "      <td>-0.920492</td>\n",
              "      <td>0.163041</td>\n",
              "      <td>0.766689</td>\n",
              "      <td>0.839444</td>\n",
              "      <td>0.109853</td>\n",
              "      <td>unstable</td>\n",
              "    </tr>\n",
              "  </tbody>\n",
              "</table>\n",
              "</div>"
            ],
            "text/plain": [
              "       tau1      tau2      tau3  ...        g3        g4     stabf\n",
              "0  2.959060  3.079885  8.381025  ...  0.887445  0.958034  unstable\n",
              "1  9.304097  4.902524  3.047541  ...  0.562139  0.781760    stable\n",
              "2  8.971707  8.848428  3.046479  ...  0.839444  0.109853  unstable\n",
              "\n",
              "[3 rows x 13 columns]"
            ]
          },
          "metadata": {},
          "execution_count": 62
        }
      ]
    },
    {
      "cell_type": "markdown",
      "metadata": {
        "id": "YdFhb_lGvVRz"
      },
      "source": [
        "scaling using Standard Scaler"
      ]
    },
    {
      "cell_type": "code",
      "metadata": {
        "id": "ODgR6bBto2Aq"
      },
      "source": [
        "X = df.drop('stabf', axis=1)\n",
        "y = df['stabf']\n",
        "x_train, x_test, y_train, y_test = train_test_split(X, y, test_size= 0.2, random_state=1)\n",
        "\n",
        "scaler = StandardScaler()\n",
        "stand_train = scaler.fit_transform(x_train)\n",
        "stand_train = pd.DataFrame(stand_train, columns=x_train.columns)\n",
        "\n",
        "stand_test = scaler.fit_transform(x_test)\n",
        "stand_test = pd.DataFrame(stand_test, columns=x_test.columns)"
      ],
      "execution_count": 63,
      "outputs": []
    },
    {
      "cell_type": "markdown",
      "metadata": {
        "id": "vV5NON_bvvjn"
      },
      "source": [
        "random forest model"
      ]
    },
    {
      "cell_type": "code",
      "metadata": {
        "colab": {
          "base_uri": "https://localhost:8080/"
        },
        "id": "teWzEePtvzE3",
        "outputId": "530e2772-1dfa-400c-e50b-6403261308a9"
      },
      "source": [
        "from sklearn.ensemble import RandomForestClassifier\n",
        "\n",
        "r_forest = RandomForestClassifier(random_state=1)\n",
        "r_forest.fit(stand_train, y_train)\n",
        "\n",
        "pred = r_forest.predict(stand_test)\n",
        "pred\n",
        "\n",
        "accuracy = accuracy_score(y_true=y_test, y_pred=pred)\n",
        "print('%.4f'%accuracy)"
      ],
      "execution_count": 73,
      "outputs": [
        {
          "output_type": "stream",
          "name": "stdout",
          "text": [
            "0.9280\n"
          ]
        }
      ]
    },
    {
      "cell_type": "markdown",
      "metadata": {
        "id": "k1NplVIgxu1n"
      },
      "source": [
        "extra trees classifier"
      ]
    },
    {
      "cell_type": "code",
      "metadata": {
        "colab": {
          "base_uri": "https://localhost:8080/"
        },
        "id": "xdfQRf8txxZL",
        "outputId": "faad713f-3ada-4370-89f9-03f883f7f921"
      },
      "source": [
        "from sklearn.ensemble import ExtraTreesClassifier\n",
        "\n",
        "ext = ExtraTreesClassifier(random_state=1)\n",
        "ext.fit(stand_train, y_train)\n",
        "\n",
        "pred = ext.predict(stand_test)\n",
        "pred\n",
        "\n",
        "accuracy = accuracy_score(y_true=y_test, y_pred=pred)\n",
        "print('%.4f'%accuracy)"
      ],
      "execution_count": 79,
      "outputs": [
        {
          "output_type": "stream",
          "name": "stdout",
          "text": [
            "0.9260\n"
          ]
        }
      ]
    },
    {
      "cell_type": "code",
      "metadata": {
        "id": "M9imLWhAAitz"
      },
      "source": [
        "n_estimators = [50,100,300,500,1000] \n",
        "min_samples_split = [2,3,5,7,9] \n",
        "min_samples_leaf = [1,2,4,6,8] \n",
        "max_features = ['auto','sqrt','log2',None] \n",
        "hyperparameter_grid = {'n_estimators' : n_estimators,\n",
        "                       'min_samples_leaf' : min_samples_leaf,\n",
        "                       'min_samples_split' : min_samples_split,\n",
        "                       'max_features' : max_features }"
      ],
      "execution_count": 80,
      "outputs": []
    },
    {
      "cell_type": "markdown",
      "metadata": {
        "id": "sAeyAuNgAvFJ"
      },
      "source": [
        "random cv search"
      ]
    },
    {
      "cell_type": "code",
      "metadata": {
        "colab": {
          "base_uri": "https://localhost:8080/"
        },
        "id": "kKQinwzdAxuo",
        "outputId": "518477b2-e3ae-4258-c5b1-8e2594d117de"
      },
      "source": [
        "from sklearn.model_selection import RandomizedSearchCV\n",
        "\n",
        "search = RandomizedSearchCV(estimator=ext, param_distributions=hyperparameter_grid, random_state=1)\n",
        "search = search.fit(stand_train, y_train)\n",
        "\n",
        "print(search.best_params_)"
      ],
      "execution_count": 81,
      "outputs": [
        {
          "output_type": "stream",
          "name": "stdout",
          "text": [
            "{'n_estimators': 1000, 'min_samples_split': 2, 'min_samples_leaf': 8, 'max_features': None}\n"
          ]
        }
      ]
    },
    {
      "cell_type": "markdown",
      "metadata": {
        "id": "1uzl_sQkwjZl"
      },
      "source": [
        "xgboost"
      ]
    },
    {
      "cell_type": "code",
      "metadata": {
        "colab": {
          "base_uri": "https://localhost:8080/"
        },
        "id": "DdLp6f_lwkd2",
        "outputId": "5014978d-ba41-4aa2-b609-5f8244273846"
      },
      "source": [
        "from xgboost import XGBClassifier\n",
        "\n",
        "xgb = XGBClassifier(random_state=1)\n",
        "xgb.fit(stand_train, y_train)\n",
        "\n",
        "pred = xgb.predict(stand_test)\n",
        "pred\n",
        "\n",
        "accuracy = accuracy_score(y_true=y_test, y_pred=pred)\n",
        "print('%.4f'%accuracy)"
      ],
      "execution_count": 72,
      "outputs": [
        {
          "output_type": "stream",
          "name": "stdout",
          "text": [
            "0.9190\n"
          ]
        }
      ]
    },
    {
      "cell_type": "markdown",
      "metadata": {
        "id": "H3tGHP-fxDSL"
      },
      "source": [
        "light gradient boost"
      ]
    },
    {
      "cell_type": "code",
      "metadata": {
        "colab": {
          "base_uri": "https://localhost:8080/"
        },
        "id": "w61nnwkQxFQh",
        "outputId": "94c8ce01-4ef9-4078-96ce-807eb01d45fa"
      },
      "source": [
        "import lightgbm as lbg\n",
        "\n",
        "lbg = lbg.LGBMClassifier(random_state=1)\n",
        "lbg.fit(stand_train, y_train)\n",
        "\n",
        "pred = lbg.predict(stand_test)\n",
        "pred\n",
        "\n",
        "accuracy = accuracy_score(y_true=y_test, y_pred=pred)\n",
        "print('%.4f'%accuracy)"
      ],
      "execution_count": 74,
      "outputs": [
        {
          "output_type": "stream",
          "name": "stdout",
          "text": [
            "0.9355\n"
          ]
        }
      ]
    },
    {
      "cell_type": "markdown",
      "metadata": {
        "id": "7KIwBNMHCm86"
      },
      "source": [
        "new ext class"
      ]
    },
    {
      "cell_type": "code",
      "metadata": {
        "colab": {
          "base_uri": "https://localhost:8080/"
        },
        "id": "94PL2DtozHTJ",
        "outputId": "bef6dac8-455d-4ffc-aba9-a2f402b3be01"
      },
      "source": [
        "ext2 = ExtraTreesClassifier(random_state=1,\n",
        "                              n_estimators=1000,\n",
        "                              min_samples_leaf=8,\n",
        "                              max_features=None,\n",
        "                              min_samples_split=2)\n",
        "ext2.fit(stand_train, y_train)\n",
        "pred = ext2.predict(stand_test)\n",
        "pred\n",
        "\n",
        "accuracy = accuracy_score(y_true=y_test, y_pred=pred)\n",
        "print('%.4f'%accuracy)"
      ],
      "execution_count": 83,
      "outputs": [
        {
          "output_type": "stream",
          "name": "stdout",
          "text": [
            "0.9285\n"
          ]
        }
      ]
    },
    {
      "cell_type": "markdown",
      "metadata": {
        "id": "_9sVV6pGDjB1"
      },
      "source": [
        "most and least important feature"
      ]
    },
    {
      "cell_type": "code",
      "metadata": {
        "colab": {
          "base_uri": "https://localhost:8080/"
        },
        "id": "P4oWL4MUDoTK",
        "outputId": "ae963bf0-1310-4de0-d3ab-f72d640a1baa"
      },
      "source": [
        "sorted(zip(search.best_estimator_.feature_importances_, X))"
      ],
      "execution_count": 93,
      "outputs": [
        {
          "output_type": "execute_result",
          "data": {
            "text/plain": [
              "[(0.003683422151688322, 'p1'),\n",
              " (0.004962486591192238, 'p4'),\n",
              " (0.005336864710946151, 'p2'),\n",
              " (0.005429268421191957, 'p3'),\n",
              " (0.10256244080927947, 'g1'),\n",
              " (0.10757764577478764, 'g2'),\n",
              " (0.10954089174337298, 'g4'),\n",
              " (0.11306267999167334, 'g3'),\n",
              " (0.13468028520386593, 'tau3'),\n",
              " (0.1354167630909727, 'tau4'),\n",
              " (0.13723974766109256, 'tau1'),\n",
              " (0.14050750384993677, 'tau2')]"
            ]
          },
          "metadata": {},
          "execution_count": 93
        }
      ]
    }
  ]
}